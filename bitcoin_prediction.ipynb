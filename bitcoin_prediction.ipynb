{
  "nbformat": 4,
  "nbformat_minor": 0,
  "metadata": {
    "colab": {
      "name": "Untitled2.ipynb",
      "provenance": [],
      "authorship_tag": "ABX9TyPKAOuPI3yuDbG/1qScf4k+",
      "include_colab_link": true
    },
    "kernelspec": {
      "name": "python3",
      "display_name": "Python 3"
    }
  },
  "cells": [
    {
      "cell_type": "markdown",
      "metadata": {
        "id": "view-in-github",
        "colab_type": "text"
      },
      "source": [
        "<a href=\"https://colab.research.google.com/github/Komal2512/Bitcoin-Prediction/blob/main/bitcoin_prediction.ipynb\" target=\"_parent\"><img src=\"https://colab.research.google.com/assets/colab-badge.svg\" alt=\"Open In Colab\"/></a>"
      ]
    },
    {
      "cell_type": "code",
      "metadata": {
        "id": "F8-o2TX2eT77"
      },
      "source": [
        "# Description: This is a Bitcoin Price Prediction Using Machine Learning and Python.\n",
        "# This Program predicts the price of Bitcoin for the next 30 Days."
      ],
      "execution_count": null,
      "outputs": []
    },
    {
      "cell_type": "code",
      "metadata": {
        "id": "52NFDCLmeU7C"
      },
      "source": [
        "# Created By Komal Goel"
      ],
      "execution_count": 1,
      "outputs": []
    },
    {
      "cell_type": "code",
      "metadata": {
        "id": "i-3d8cqQe8Ly"
      },
      "source": [
        "# Import the Libraries\n",
        "import pandas as pd\n",
        "import numpy as np"
      ],
      "execution_count": 11,
      "outputs": []
    },
    {
      "cell_type": "code",
      "metadata": {
        "id": "-MresQ85fBif",
        "outputId": "c1c516d0-b96b-4279-8ed1-8c22c81c4cc5",
        "colab": {
          "resources": {
            "http://localhost:8080/nbextensions/google.colab/files.js": {
              "data": "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",
              "ok": true,
              "headers": [
                [
                  "content-type",
                  "application/javascript"
                ]
              ],
              "status": 200,
              "status_text": ""
            }
          },
          "base_uri": "https://localhost:8080/",
          "height": 73
        }
      },
      "source": [
        "# Load the Data from dataset\n",
        "from google.colab import files\n",
        "uploaded = files.upload()"
      ],
      "execution_count": 8,
      "outputs": [
        {
          "output_type": "display_data",
          "data": {
            "text/html": [
              "\n",
              "     <input type=\"file\" id=\"files-c758891c-0bac-4c99-b16a-8d67e0fa57f1\" name=\"files[]\" multiple disabled\n",
              "        style=\"border:none\" />\n",
              "     <output id=\"result-c758891c-0bac-4c99-b16a-8d67e0fa57f1\">\n",
              "      Upload widget is only available when the cell has been executed in the\n",
              "      current browser session. Please rerun this cell to enable.\n",
              "      </output>\n",
              "      <script src=\"/nbextensions/google.colab/files.js\"></script> "
            ],
            "text/plain": [
              "<IPython.core.display.HTML object>"
            ]
          },
          "metadata": {
            "tags": []
          }
        },
        {
          "output_type": "stream",
          "text": [
            "Saving bitcoin.csv to bitcoin (2).csv\n"
          ],
          "name": "stdout"
        }
      ]
    },
    {
      "cell_type": "code",
      "metadata": {
        "id": "o7hqCOL6fGO3",
        "outputId": "b9596d73-9fbf-42e5-d3b0-42fccc48a2f7",
        "colab": {
          "base_uri": "https://localhost:8080/",
          "height": 266
        }
      },
      "source": [
        "# Store the data into a Variable\n",
        "df = pd.read_csv('bitcoin (2).csv')\n",
        "\n",
        "# Show the first 7 rows of dataset\n",
        "df.head(7)"
      ],
      "execution_count": 12,
      "outputs": [
        {
          "output_type": "execute_result",
          "data": {
            "text/html": [
              "<div>\n",
              "<style scoped>\n",
              "    .dataframe tbody tr th:only-of-type {\n",
              "        vertical-align: middle;\n",
              "    }\n",
              "\n",
              "    .dataframe tbody tr th {\n",
              "        vertical-align: top;\n",
              "    }\n",
              "\n",
              "    .dataframe thead th {\n",
              "        text-align: right;\n",
              "    }\n",
              "</style>\n",
              "<table border=\"1\" class=\"dataframe\">\n",
              "  <thead>\n",
              "    <tr style=\"text-align: right;\">\n",
              "      <th></th>\n",
              "      <th>Date</th>\n",
              "      <th>Open</th>\n",
              "      <th>High</th>\n",
              "      <th>Low</th>\n",
              "      <th>Close</th>\n",
              "      <th>Adj Close</th>\n",
              "      <th>Volume</th>\n",
              "    </tr>\n",
              "  </thead>\n",
              "  <tbody>\n",
              "    <tr>\n",
              "      <th>0</th>\n",
              "      <td>2014-09-17</td>\n",
              "      <td>359.546204</td>\n",
              "      <td>361.468506</td>\n",
              "      <td>351.586884</td>\n",
              "      <td>355.957367</td>\n",
              "      <td>355.957367</td>\n",
              "      <td>16389165</td>\n",
              "    </tr>\n",
              "    <tr>\n",
              "      <th>1</th>\n",
              "      <td>2014-09-18</td>\n",
              "      <td>355.588409</td>\n",
              "      <td>355.505402</td>\n",
              "      <td>319.789459</td>\n",
              "      <td>328.539368</td>\n",
              "      <td>328.539368</td>\n",
              "      <td>26691849</td>\n",
              "    </tr>\n",
              "    <tr>\n",
              "      <th>2</th>\n",
              "      <td>2014-09-19</td>\n",
              "      <td>328.278503</td>\n",
              "      <td>330.936707</td>\n",
              "      <td>298.921021</td>\n",
              "      <td>307.761139</td>\n",
              "      <td>307.761139</td>\n",
              "      <td>29560102</td>\n",
              "    </tr>\n",
              "    <tr>\n",
              "      <th>3</th>\n",
              "      <td>2014-09-20</td>\n",
              "      <td>307.665253</td>\n",
              "      <td>329.978180</td>\n",
              "      <td>303.931244</td>\n",
              "      <td>318.758972</td>\n",
              "      <td>318.758972</td>\n",
              "      <td>28736825</td>\n",
              "    </tr>\n",
              "    <tr>\n",
              "      <th>4</th>\n",
              "      <td>2014-09-21</td>\n",
              "      <td>318.120514</td>\n",
              "      <td>321.504517</td>\n",
              "      <td>306.502197</td>\n",
              "      <td>310.632446</td>\n",
              "      <td>310.632446</td>\n",
              "      <td>20702624</td>\n",
              "    </tr>\n",
              "    <tr>\n",
              "      <th>5</th>\n",
              "      <td>2014-09-22</td>\n",
              "      <td>310.849762</td>\n",
              "      <td>316.469116</td>\n",
              "      <td>309.170898</td>\n",
              "      <td>312.958771</td>\n",
              "      <td>312.958771</td>\n",
              "      <td>18776342</td>\n",
              "    </tr>\n",
              "    <tr>\n",
              "      <th>6</th>\n",
              "      <td>2014-09-23</td>\n",
              "      <td>312.912079</td>\n",
              "      <td>343.704376</td>\n",
              "      <td>307.343872</td>\n",
              "      <td>339.189758</td>\n",
              "      <td>339.189758</td>\n",
              "      <td>35102350</td>\n",
              "    </tr>\n",
              "  </tbody>\n",
              "</table>\n",
              "</div>"
            ],
            "text/plain": [
              "         Date        Open        High  ...       Close   Adj Close    Volume\n",
              "0  2014-09-17  359.546204  361.468506  ...  355.957367  355.957367  16389165\n",
              "1  2014-09-18  355.588409  355.505402  ...  328.539368  328.539368  26691849\n",
              "2  2014-09-19  328.278503  330.936707  ...  307.761139  307.761139  29560102\n",
              "3  2014-09-20  307.665253  329.978180  ...  318.758972  318.758972  28736825\n",
              "4  2014-09-21  318.120514  321.504517  ...  310.632446  310.632446  20702624\n",
              "5  2014-09-22  310.849762  316.469116  ...  312.958771  312.958771  18776342\n",
              "6  2014-09-23  312.912079  343.704376  ...  339.189758  339.189758  35102350\n",
              "\n",
              "[7 rows x 7 columns]"
            ]
          },
          "metadata": {
            "tags": []
          },
          "execution_count": 12
        }
      ]
    },
    {
      "cell_type": "code",
      "metadata": {
        "id": "m-5bjt0Hgpk8"
      },
      "source": [
        "# Removing the 'Date' Column\n",
        "# (I removed them as to make my data simpler and convinience to implement)\n",
        "df.drop(['Date'],1,inplace =True)"
      ],
      "execution_count": 13,
      "outputs": []
    },
    {
      "cell_type": "code",
      "metadata": {
        "id": "BaKsJUkohb5i"
      },
      "source": [
        "# Removing the 'Open','High','Low' Column\n",
        "df.drop(['Open'],1,inplace =True)\n",
        "df.drop(['High'],1,inplace =True)\n",
        "df.drop(['Low'],1,inplace =True)"
      ],
      "execution_count": 14,
      "outputs": []
    },
    {
      "cell_type": "code",
      "metadata": {
        "id": "TQliDNffhlG5"
      },
      "source": [
        "# Removing the 'Adj Close' Column\n",
        "df.drop(['Adj Close'],1,inplace =True)"
      ],
      "execution_count": 15,
      "outputs": []
    },
    {
      "cell_type": "code",
      "metadata": {
        "id": "zlKhqRH1ho9G",
        "outputId": "e63510de-d121-43a8-f3b8-7576b24d8ba6",
        "colab": {
          "base_uri": "https://localhost:8080/",
          "height": 266
        }
      },
      "source": [
        "# Showing the first 7 rows of dataset\n",
        "df.head(7)"
      ],
      "execution_count": 16,
      "outputs": [
        {
          "output_type": "execute_result",
          "data": {
            "text/html": [
              "<div>\n",
              "<style scoped>\n",
              "    .dataframe tbody tr th:only-of-type {\n",
              "        vertical-align: middle;\n",
              "    }\n",
              "\n",
              "    .dataframe tbody tr th {\n",
              "        vertical-align: top;\n",
              "    }\n",
              "\n",
              "    .dataframe thead th {\n",
              "        text-align: right;\n",
              "    }\n",
              "</style>\n",
              "<table border=\"1\" class=\"dataframe\">\n",
              "  <thead>\n",
              "    <tr style=\"text-align: right;\">\n",
              "      <th></th>\n",
              "      <th>Close</th>\n",
              "      <th>Volume</th>\n",
              "    </tr>\n",
              "  </thead>\n",
              "  <tbody>\n",
              "    <tr>\n",
              "      <th>0</th>\n",
              "      <td>355.957367</td>\n",
              "      <td>16389165</td>\n",
              "    </tr>\n",
              "    <tr>\n",
              "      <th>1</th>\n",
              "      <td>328.539368</td>\n",
              "      <td>26691849</td>\n",
              "    </tr>\n",
              "    <tr>\n",
              "      <th>2</th>\n",
              "      <td>307.761139</td>\n",
              "      <td>29560102</td>\n",
              "    </tr>\n",
              "    <tr>\n",
              "      <th>3</th>\n",
              "      <td>318.758972</td>\n",
              "      <td>28736825</td>\n",
              "    </tr>\n",
              "    <tr>\n",
              "      <th>4</th>\n",
              "      <td>310.632446</td>\n",
              "      <td>20702624</td>\n",
              "    </tr>\n",
              "    <tr>\n",
              "      <th>5</th>\n",
              "      <td>312.958771</td>\n",
              "      <td>18776342</td>\n",
              "    </tr>\n",
              "    <tr>\n",
              "      <th>6</th>\n",
              "      <td>339.189758</td>\n",
              "      <td>35102350</td>\n",
              "    </tr>\n",
              "  </tbody>\n",
              "</table>\n",
              "</div>"
            ],
            "text/plain": [
              "        Close    Volume\n",
              "0  355.957367  16389165\n",
              "1  328.539368  26691849\n",
              "2  307.761139  29560102\n",
              "3  318.758972  28736825\n",
              "4  310.632446  20702624\n",
              "5  312.958771  18776342\n",
              "6  339.189758  35102350"
            ]
          },
          "metadata": {
            "tags": []
          },
          "execution_count": 16
        }
      ]
    },
    {
      "cell_type": "code",
      "metadata": {
        "id": "ie4De0Yzhuag"
      },
      "source": [
        "# A Variable for predicting 'n' days out into the future\n",
        "# Assuming n = prediction_days = 30 \n",
        "prediction_days = 30\n",
        "\n",
        "#Create another column shifted 'n' units up\n",
        "df['Prediction'] = df[['Close']].shift(-prediction_days)"
      ],
      "execution_count": 17,
      "outputs": []
    },
    {
      "cell_type": "code",
      "metadata": {
        "id": "PfX2aeNxhz7F",
        "outputId": "deffbd62-2863-42dc-ae57-a2513bc2cf2a",
        "colab": {
          "base_uri": "https://localhost:8080/",
          "height": 266
        }
      },
      "source": [
        "# Showing the first 7 rows of the new dataset\n",
        "df.head(7)"
      ],
      "execution_count": 18,
      "outputs": [
        {
          "output_type": "execute_result",
          "data": {
            "text/html": [
              "<div>\n",
              "<style scoped>\n",
              "    .dataframe tbody tr th:only-of-type {\n",
              "        vertical-align: middle;\n",
              "    }\n",
              "\n",
              "    .dataframe tbody tr th {\n",
              "        vertical-align: top;\n",
              "    }\n",
              "\n",
              "    .dataframe thead th {\n",
              "        text-align: right;\n",
              "    }\n",
              "</style>\n",
              "<table border=\"1\" class=\"dataframe\">\n",
              "  <thead>\n",
              "    <tr style=\"text-align: right;\">\n",
              "      <th></th>\n",
              "      <th>Close</th>\n",
              "      <th>Volume</th>\n",
              "      <th>Prediction</th>\n",
              "    </tr>\n",
              "  </thead>\n",
              "  <tbody>\n",
              "    <tr>\n",
              "      <th>0</th>\n",
              "      <td>355.957367</td>\n",
              "      <td>16389165</td>\n",
              "      <td>300.821503</td>\n",
              "    </tr>\n",
              "    <tr>\n",
              "      <th>1</th>\n",
              "      <td>328.539368</td>\n",
              "      <td>26691849</td>\n",
              "      <td>306.844849</td>\n",
              "    </tr>\n",
              "    <tr>\n",
              "      <th>2</th>\n",
              "      <td>307.761139</td>\n",
              "      <td>29560102</td>\n",
              "      <td>305.622162</td>\n",
              "    </tr>\n",
              "    <tr>\n",
              "      <th>3</th>\n",
              "      <td>318.758972</td>\n",
              "      <td>28736825</td>\n",
              "      <td>299.214539</td>\n",
              "    </tr>\n",
              "    <tr>\n",
              "      <th>4</th>\n",
              "      <td>310.632446</td>\n",
              "      <td>20702624</td>\n",
              "      <td>304.023773</td>\n",
              "    </tr>\n",
              "    <tr>\n",
              "      <th>5</th>\n",
              "      <td>312.958771</td>\n",
              "      <td>18776342</td>\n",
              "      <td>303.107330</td>\n",
              "    </tr>\n",
              "    <tr>\n",
              "      <th>6</th>\n",
              "      <td>339.189758</td>\n",
              "      <td>35102350</td>\n",
              "      <td>283.355988</td>\n",
              "    </tr>\n",
              "  </tbody>\n",
              "</table>\n",
              "</div>"
            ],
            "text/plain": [
              "        Close    Volume  Prediction\n",
              "0  355.957367  16389165  300.821503\n",
              "1  328.539368  26691849  306.844849\n",
              "2  307.761139  29560102  305.622162\n",
              "3  318.758972  28736825  299.214539\n",
              "4  310.632446  20702624  304.023773\n",
              "5  312.958771  18776342  303.107330\n",
              "6  339.189758  35102350  283.355988"
            ]
          },
          "metadata": {
            "tags": []
          },
          "execution_count": 18
        }
      ]
    },
    {
      "cell_type": "code",
      "metadata": {
        "id": "Pq4Vmzz8h4hK",
        "outputId": "4e5751e6-4593-4db8-885f-e0fe1104bcb1",
        "colab": {
          "base_uri": "https://localhost:8080/",
          "height": 266
        }
      },
      "source": [
        "# Showing the last 7 rows of the new dataset\n",
        "df.tail(7)"
      ],
      "execution_count": 19,
      "outputs": [
        {
          "output_type": "execute_result",
          "data": {
            "text/html": [
              "<div>\n",
              "<style scoped>\n",
              "    .dataframe tbody tr th:only-of-type {\n",
              "        vertical-align: middle;\n",
              "    }\n",
              "\n",
              "    .dataframe tbody tr th {\n",
              "        vertical-align: top;\n",
              "    }\n",
              "\n",
              "    .dataframe thead th {\n",
              "        text-align: right;\n",
              "    }\n",
              "</style>\n",
              "<table border=\"1\" class=\"dataframe\">\n",
              "  <thead>\n",
              "    <tr style=\"text-align: right;\">\n",
              "      <th></th>\n",
              "      <th>Close</th>\n",
              "      <th>Volume</th>\n",
              "      <th>Prediction</th>\n",
              "    </tr>\n",
              "  </thead>\n",
              "  <tbody>\n",
              "    <tr>\n",
              "      <th>1870</th>\n",
              "      <td>8245.560547</td>\n",
              "      <td>23826849281</td>\n",
              "      <td>NaN</td>\n",
              "    </tr>\n",
              "    <tr>\n",
              "      <th>1871</th>\n",
              "      <td>8292.355469</td>\n",
              "      <td>21780231050</td>\n",
              "      <td>NaN</td>\n",
              "    </tr>\n",
              "    <tr>\n",
              "      <th>1872</th>\n",
              "      <td>8349.874023</td>\n",
              "      <td>19021882025</td>\n",
              "      <td>NaN</td>\n",
              "    </tr>\n",
              "    <tr>\n",
              "      <th>1873</th>\n",
              "      <td>8270.445313</td>\n",
              "      <td>18924326413</td>\n",
              "      <td>NaN</td>\n",
              "    </tr>\n",
              "    <tr>\n",
              "      <th>1874</th>\n",
              "      <td>8458.521484</td>\n",
              "      <td>23517560012</td>\n",
              "      <td>NaN</td>\n",
              "    </tr>\n",
              "    <tr>\n",
              "      <th>1875</th>\n",
              "      <td>8436.573242</td>\n",
              "      <td>23658103729</td>\n",
              "      <td>NaN</td>\n",
              "    </tr>\n",
              "    <tr>\n",
              "      <th>1876</th>\n",
              "      <td>8456.394531</td>\n",
              "      <td>20898606220</td>\n",
              "      <td>NaN</td>\n",
              "    </tr>\n",
              "  </tbody>\n",
              "</table>\n",
              "</div>"
            ],
            "text/plain": [
              "            Close       Volume  Prediction\n",
              "1870  8245.560547  23826849281         NaN\n",
              "1871  8292.355469  21780231050         NaN\n",
              "1872  8349.874023  19021882025         NaN\n",
              "1873  8270.445313  18924326413         NaN\n",
              "1874  8458.521484  23517560012         NaN\n",
              "1875  8436.573242  23658103729         NaN\n",
              "1876  8456.394531  20898606220         NaN"
            ]
          },
          "metadata": {
            "tags": []
          },
          "execution_count": 19
        }
      ]
    },
    {
      "cell_type": "code",
      "metadata": {
        "id": "JOt3-xEdh9Im",
        "outputId": "3f053bf9-f6d1-4fe4-d598-d8a8f8739d43",
        "colab": {
          "base_uri": "https://localhost:8080/",
          "height": 136
        }
      },
      "source": [
        "# Create the independent dataset\n",
        "\n",
        "# Convert the dataframe to a numpy array and drop the prediction column\n",
        "X = np.array(df.drop(['Prediction'],1))\n",
        "\n",
        "# Remove the last 'n' rows where 'n' is the prediction_days \n",
        "X = X[:len(df)-prediction_days]\n",
        "\n",
        "print(X)"
      ],
      "execution_count": 20,
      "outputs": [
        {
          "output_type": "stream",
          "text": [
            "[[3.55957367e+02 1.63891650e+07]\n",
            " [3.28539368e+02 2.66918490e+07]\n",
            " [3.07761139e+02 2.95601020e+07]\n",
            " ...\n",
            " [7.42463135e+03 1.11125789e+10]\n",
            " [7.27220947e+03 1.19812777e+10]\n",
            " [7.51501123e+03 1.64139714e+10]]\n"
          ],
          "name": "stdout"
        }
      ]
    },
    {
      "cell_type": "code",
      "metadata": {
        "id": "Z3Fl0FdPiDVs",
        "outputId": "25adb497-9623-4fe4-fba0-d9f42ce7fa96",
        "colab": {
          "base_uri": "https://localhost:8080/",
          "height": 51
        }
      },
      "source": [
        "# Create the dependent data set\n",
        "\n",
        "# Convert the dataframe to a numpy array\n",
        "y = np.array(df['Prediction'])\n",
        "\n",
        "# Get all of the values except the last 'n' rows\n",
        "y = y[:-prediction_days]\n",
        "\n",
        "print(y)"
      ],
      "execution_count": 21,
      "outputs": [
        {
          "output_type": "stream",
          "text": [
            "[ 300.821503  306.844849  305.622162 ... 8458.521484 8436.573242\n",
            " 8456.394531]\n"
          ],
          "name": "stdout"
        }
      ]
    },
    {
      "cell_type": "code",
      "metadata": {
        "id": "XcBQ-GjoiHf4"
      },
      "source": [
        "# Splitting the data into 80% training and 20% testing\n",
        "from sklearn.model_selection import train_test_split\n",
        "x_train, x_test, y_train, y_test = train_test_split(X,y, test_size = 0.2)"
      ],
      "execution_count": 22,
      "outputs": []
    },
    {
      "cell_type": "code",
      "metadata": {
        "id": "YCu1km-EiK17",
        "outputId": "befb59c4-dc04-4cde-e1dd-f1789eccdce6",
        "colab": {
          "base_uri": "https://localhost:8080/",
          "height": 527
        }
      },
      "source": [
        "# Set the prediction_days_array equal to the last 30 rows from yhe original data set\n",
        "prediction_days_array = np.array(df.drop(['Prediction'],1))[-prediction_days:]\n",
        "\n",
        "print(prediction_days_array)"
      ],
      "execution_count": 23,
      "outputs": [
        {
          "output_type": "stream",
          "text": [
            "[[7.50835303e+03 1.42271613e+10]\n",
            " [7.82407471e+03 1.76446979e+10]\n",
            " [7.79822656e+03 1.60012500e+10]\n",
            " [7.53851318e+03 1.77592168e+10]\n",
            " [7.55450293e+03 1.31693345e+10]\n",
            " [7.54500537e+03 1.25205529e+10]\n",
            " [7.59537988e+03 1.37414755e+10]\n",
            " [7.43596826e+03 1.37932250e+10]\n",
            " [7.26673145e+03 1.45123276e+10]\n",
            " [7.28427344e+03 1.28654158e+10]\n",
            " [7.13811768e+03 1.40122918e+10]\n",
            " [7.15186279e+03 1.23526828e+10]\n",
            " [7.37044385e+03 1.38983348e+10]\n",
            " [7.39227686e+03 1.42297610e+10]\n",
            " [7.25902490e+03 1.50994145e+10]\n",
            " [6.75024951e+03 1.97107615e+10]\n",
            " [6.74862109e+03 1.46515667e+10]\n",
            " [7.81634277e+03 2.59065225e+10]\n",
            " [8.34345801e+03 4.01572477e+10]\n",
            " [8.61756641e+03 2.94055540e+10]\n",
            " [8.34004883e+03 2.78852446e+10]\n",
            " [8.48309961e+03 2.55786156e+10]\n",
            " [8.25366992e+03 2.48411221e+10]\n",
            " [8.24556055e+03 2.38268493e+10]\n",
            " [8.29235547e+03 2.17802310e+10]\n",
            " [8.34987402e+03 1.90218820e+10]\n",
            " [8.27044531e+03 1.89243264e+10]\n",
            " [8.45852148e+03 2.35175600e+10]\n",
            " [8.43657324e+03 2.36581037e+10]\n",
            " [8.45639453e+03 2.08986062e+10]]\n"
          ],
          "name": "stdout"
        }
      ]
    },
    {
      "cell_type": "code",
      "metadata": {
        "id": "QDhaC9QpiMKA",
        "outputId": "405883b2-0517-4e6e-d47c-161fe202a54c",
        "colab": {
          "base_uri": "https://localhost:8080/",
          "height": 51
        }
      },
      "source": [
        "# Import Support Vector Regression(SVR) from scikit-learn(sklearn)\n",
        "from sklearn.svm import SVR\n",
        "# Create and train the Support Vector Machine (SVM Regression) using radial basis function(rbf)\n",
        "svr_rbf = SVR(kernel = 'rbf', C = 1e3, gamma = 0.00001)\n",
        "svr_rbf.fit(x_train, y_train)"
      ],
      "execution_count": 24,
      "outputs": [
        {
          "output_type": "execute_result",
          "data": {
            "text/plain": [
              "SVR(C=1000.0, cache_size=200, coef0=0.0, degree=3, epsilon=0.1, gamma=1e-05,\n",
              "    kernel='rbf', max_iter=-1, shrinking=True, tol=0.001, verbose=False)"
            ]
          },
          "metadata": {
            "tags": []
          },
          "execution_count": 24
        }
      ]
    },
    {
      "cell_type": "code",
      "metadata": {
        "id": "n9tUgUWBiPkA",
        "outputId": "4e11a30d-f10a-417b-98fd-a79d8c7f85d5",
        "colab": {
          "base_uri": "https://localhost:8080/",
          "height": 34
        }
      },
      "source": [
        "# Test the model\n",
        "svr_rbf_confidence = svr_rbf.score(x_test, y_test)\n",
        "print(\"svr_rbf accuracy: \",svr_rbf_confidence)"
      ],
      "execution_count": 25,
      "outputs": [
        {
          "output_type": "stream",
          "text": [
            "svr_rbf accuracy:  -0.3285388051070488\n"
          ],
          "name": "stdout"
        }
      ]
    },
    {
      "cell_type": "code",
      "metadata": {
        "id": "RQKX3D5njH3W",
        "outputId": "416075e0-a194-4dc1-e422-9144a467eb2f",
        "colab": {
          "base_uri": "https://localhost:8080/",
          "height": 1000
        }
      },
      "source": [
        "# Print the predicted values\n",
        "svm_prediction = svr_rbf.predict(x_test)\n",
        "print(svm_prediction)\n",
        "\n",
        "print()\n",
        "\n",
        "# Print the actual values\n",
        "print(y_test)"
      ],
      "execution_count": 26,
      "outputs": [
        {
          "output_type": "stream",
          "text": [
            "[1499.04670305 1499.04670305 1499.04670305 1499.04670305 1499.04670305\n",
            " 1499.04670305 1499.04670305 1499.04670305 1499.04670305 1499.04670305\n",
            " 1499.04670305 1499.04670305 1499.04670305 1499.04670305 1499.04670305\n",
            " 1499.04670305 1499.04670305 1499.04670305 1499.04670305 1499.04670305\n",
            " 1499.04670305 1499.04670305 1499.04670305 1499.04670305 1499.04670305\n",
            " 1499.04670305 1499.04670305 1499.04670305 1499.04670305 1499.04670305\n",
            " 1499.04670305 1499.04670305 1499.04670305 1499.04670305 1499.04670305\n",
            " 1499.04670305 1499.04670305 1499.04670305 1499.04670305 1499.04670305\n",
            " 1499.04670305 1499.04670305 1499.04670305 1499.04670305 1499.04670305\n",
            " 1499.04670305 1499.04670305 1499.04670305 1499.04670305 1499.04670305\n",
            " 1499.04670305 1499.04670305 1499.04670305 1499.04670305 1499.04670305\n",
            " 1499.04670305 1499.04670305 1499.04670305 1499.04670305 1499.04670305\n",
            " 1499.04670305 1499.04670305 1499.04670305 1499.04670305 1499.04670305\n",
            " 1499.04670305 1499.04670305 1499.04670298 1499.04670305 1499.04670305\n",
            " 1499.04670305 1499.04670305 1499.04670305 1499.04670305 1499.04670305\n",
            " 1499.04670305 1499.04670305 1499.04670305 1499.04670305 1499.04670305\n",
            " 1499.04670305 1499.04670305 1499.04670305 1499.04670305 1499.04670305\n",
            " 1499.04670305 1499.04670305 1499.04670305 1499.04670305 1499.04670305\n",
            " 1499.04670305 1499.04670305 1499.04670305 1499.04670305 1499.04670305\n",
            " 1499.04670305 1499.04670305 1499.04670305 1499.04670305 1499.04670305\n",
            " 1499.04670305 1499.04670305 1499.04670305 1499.04670305 1499.04670305\n",
            " 1499.04670305 1499.04670305 1499.04670305 1499.04670305 1499.04670305\n",
            " 1499.04670305 1499.04670305 1499.04670305 1499.04670305 1499.04670305\n",
            " 1499.04670305 1499.04670305 1499.04670305 1499.04670305 1499.04670305\n",
            " 1499.04670305 1499.04670305 1499.04670305 1499.04670305 1499.04670305\n",
            " 1499.04670305 1499.04670305 1499.04670305 1499.04670305 1499.04670305\n",
            " 1499.04670305 1499.04670305 1499.04670305 1499.04670305 1499.04670305\n",
            " 1499.03484378 1499.04670305 1499.04670305 1499.04670305 1499.04670305\n",
            " 1499.04670305 1499.04670305 1499.04670305 1499.04670305  972.86506555\n",
            " 1499.04670305 1499.04670305 1499.04670305 1499.04670305 1499.04670305\n",
            " 1499.04670305 1499.04670305 1499.04670305 1499.04670305 1499.04670305\n",
            " 1499.04670305 1499.04670305 1499.04670305 1499.04670305 1499.04670305\n",
            " 1499.04670305 1498.98815988 1499.04670305 1499.04670305 1499.04670305\n",
            " 1499.04670305 1499.04670305 1499.04670305 1499.04670305 1499.04670305\n",
            " 1499.04670305  525.85087904 1499.04670305 1499.04670305 1499.04670305\n",
            " 1499.04670305 1499.04670305 1499.04670305 1499.04670305 1499.04670305\n",
            " 1499.04670305 1499.04670305 1499.04670305 1499.04670305 1499.04670305\n",
            " 1499.04670305 1499.04670305 1499.04670305 1499.04670305 1499.04670305\n",
            " 1499.04670305 1499.04670305 1499.04670305 1499.04670305 1499.04670305\n",
            " 1499.04670305 1499.04670305 1499.04670305 1499.04670305 1499.04670305\n",
            " 1499.04670305 1499.04670305 1499.04670305 1499.04670305 1499.04670305\n",
            " 1499.04670305 1499.04670305 1499.04670305 1499.04670305 1499.04670305\n",
            " 1499.04670305 1499.04670305 1499.04670305 1499.04670305 1499.04670305\n",
            " 1499.04670305 1499.04670305 1499.04670305 1499.04670305 1499.04670305\n",
            " 1499.04670305 1499.04670305 1499.04670305 1305.53525831 1499.04670305\n",
            " 1499.04670305 1499.04670305 1499.04670305 1499.04670305 1499.04670305\n",
            " 1499.04670305 1499.04670305 1499.04670305 1499.04670305 1499.04670305\n",
            " 1499.04670305 1499.04670305 1499.04670305 1499.04670305 1499.04670305\n",
            " 1499.04670305 1499.04670305 1499.04670305 1499.04670305 1499.04670305\n",
            " 1499.04670305 1499.04670305 1499.04670305 1499.04670305 1499.04670305\n",
            " 1499.04670305 1499.04670305 1499.04670305 1499.04670305 1499.04670305\n",
            " 1499.04670305 1499.04670305 1499.04670305 1499.04670305 1499.04670305\n",
            " 1499.04670305 1499.04670305 1499.04670305 1499.04670305 1499.04670305\n",
            " 1499.04670305 1499.04670305 1499.04670305 1499.04670305 1499.04670305\n",
            " 1499.04670305 1499.04670305 1499.04670305 1499.04670305 1499.04670305\n",
            " 1499.04583415 1080.3621446  1499.04670305 1499.04670305 1499.04670305\n",
            " 1499.04670305 1499.04670305 1499.04670305 1499.04670305 1499.04670305\n",
            " 1499.04670305 1499.04670305 1499.04670305 1499.04670305 1499.04670305\n",
            " 1499.04669488 1499.04670305 1499.04670305 1499.04670305 1499.04670305\n",
            " 1499.04670305 1499.04670305 1499.04670305 1499.04670305 1499.04670305\n",
            " 1499.04670305 1499.04670305 1499.04670305 1499.04670305 1499.04670305\n",
            " 1499.04670305 1499.04670305 1499.04670305 1499.04670305 1485.42508159\n",
            " 1499.04670305 1499.04670305 1499.04670305 1499.04670305 1499.04670305\n",
            " 1499.04670305 1499.04670305 1499.04670305 1499.04670305 1499.04670305\n",
            " 1499.04670305 1499.04670305 1499.04670305 1499.04670305 1499.04670305\n",
            " 1499.04670305 1499.04670305 1499.04670305 1499.04670305 1499.04670305\n",
            " 1499.04670305 1499.04670305 1499.04670305 1499.04670305 1499.04670305\n",
            " 1499.04670305 1499.04670305 1499.04670305 1499.04670305 1499.04670305\n",
            " 1499.04670305 1499.04670305 1499.04670305 1499.04670305 1499.04670305\n",
            " 1499.04670305 1499.04670305 1499.04670305 1499.04670305 1499.04670305\n",
            " 1499.04670305 1499.04670305 1499.04670305 1499.04670305 1499.04670305\n",
            " 1499.04670305 1499.04670305 1499.04670305 1499.04670305 1499.04670305\n",
            " 1499.04670305 1499.04670305 1499.04670305 1499.04670305 1499.04670305\n",
            " 1499.04670305 1499.04670305 1499.04670305 1499.04670305 1499.04670305]\n",
            "\n",
            "[14571.832031   251.296326   207.427597  1928.954956  7028.269043\n",
            "   312.67688   7630.927734  7047.166992  3673.458252  5593.523926\n",
            "  9042.080078   608.264954   546.738342  8132.469727  6595.20166\n",
            "   396.616608   205.879745  6875.008301  3949.773438  5782.600586\n",
            "   259.200775   641.415283   210.079834  8247.941406  9054.121094\n",
            "  9167.460938  9589.967773  5403.729004   859.130188  8245.560547\n",
            "  3597.924072  5762.466309   274.922424  2212.710449   210.543259\n",
            "  5451.084473   648.647339   300.401733  2235.834229  1111.123657\n",
            "  5111.808594   221.157715   554.837891  6420.721191  7151.862793\n",
            "   251.924515   602.966736   202.665375  6139.01416   5420.429688\n",
            "  6657.345703  5460.403809  5456.281738  9271.415039  5592.873047\n",
            "   693.117004  1203.394165   366.290771  2082.106201  4497.265137\n",
            "   540.495789  4488.186523  5203.150879   204.698029   914.332703\n",
            "   508.207306  1456.320679   394.401276  6538.252441   369.608307\n",
            "   229.614639  9585.356445  2863.751221 11665.513672   414.70401\n",
            "  8077.302734  7087.279297   630.987     3493.002441  3828.597656\n",
            "  3197.257813   370.92627    252.247833   223.77475   8270.445313\n",
            "  3368.355713   828.262085  9280.875977  7460.788086  8924.292969\n",
            "   212.45578    419.381073  3854.704102  2646.77002    298.032898\n",
            "  1102.099487   968.238586   232.012833  3036.359619   253.000748\n",
            "  5600.47168    402.015411  7554.50293   7865.817871   210.175186\n",
            "  3416.384521   302.538513  9378.670898   400.521759  9124.717773\n",
            "   227.396652  5659.873047   507.405518  8682.964844   673.231384\n",
            "   223.845642  9749.75293   7748.666992   237.03656    247.313187\n",
            "  3445.985352   607.197021  5721.924805  3088.07666   6748.621094\n",
            "   963.173462   214.423615   201.960419   604.067627   222.659821\n",
            "  3311.741943   241.912186   589.98291    365.75531    359.087189\n",
            "   298.45285   9472.157227   853.092712  7004.984375  9336.203125\n",
            "  1649.260132  9092.541992  4746.688477   519.483459   211.888\n",
            "   264.709808  6617.735352  3287.669189   237.897186  3382.942871\n",
            "  3024.73291    207.50618   5764.513672  9600.941406   353.431549\n",
            " 10096.293945  5681.992188   639.162231  7635.115723   233.155914\n",
            "  7650.920898   588.081848  5682.285156  5644.216309  7068.740723\n",
            "   377.947479  7545.005371  3914.934326  7782.442383   210.811859\n",
            "  6784.344727   185.320847  6159.479004  1328.717651  6252.20459\n",
            "   205.940552  3512.058594  2076.438477   515.305115   731.951111\n",
            "  3205.250244  5791.400879  8510.954102   227.250977  8919.223633\n",
            "  3202.042725   233.036133   231.137939  3040.053711   380.273376\n",
            "  2910.091797   585.857239 11267.671875  3228.888916   390.213104\n",
            "   217.746628  9239.483398   404.606812  5603.438965   269.342102\n",
            "  3670.661621   225.275177   488.110748   343.026733   214.254715\n",
            "   291.544159   230.380386  3575.342529   401.890961   649.819397\n",
            "   254.840027 11221.008789   610.373047  3729.454834   204.050491\n",
            "   368.081207  5690.88623   4864.482422  4899.657227   206.940491\n",
            "   282.186157  1563.694458  8109.805176   181.774612   246.539688\n",
            "  1024.327271  5072.282715  9849.555664  6987.593262  9364.710938\n",
            "  3173.025391  9566.484375  3486.83667    213.655502   581.536499\n",
            "   257.278046  8831.072266   375.353424   204.125992   631.151245\n",
            "  9338.717773   546.205933   295.311066  3272.990234   575.440674\n",
            " 10516.327148  9098.84668   5678.756836   313.787018  9979.533203\n",
            "  2360.486328   948.707581  5586.458496  9416.116211  4866.13623\n",
            "   284.888611  8452.749023  6477.626465  3124.268555   368.791901\n",
            "  5231.516113  3530.072021   376.313354  3265.974121  5592.500488\n",
            "   253.903198 10281.453125 16299.753906  7049.026367  4700.323242\n",
            "   370.207306  6350.986328  3429.697021  5611.994629  9659.918945\n",
            "   218.386642   303.521301  5503.882324   929.379578  3695.389893\n",
            "  3289.634033  6358.188965   233.992599  5562.578125  1860.701538\n",
            "   714.010071   994.545715   555.649902   274.089172   229.935501\n",
            "   304.018494   963.014282   192.684753  1061.493042   203.059128\n",
            "  1774.107422   228.503372  9475.269531   272.494629   579.893311\n",
            "  2172.174072  3698.505859  7541.81543    240.143463  4500.679199\n",
            "  3544.214355   202.840958  2375.517822  7057.222656   650.650208\n",
            "  3650.523682   364.022186   373.563538  5651.393555  5606.809082\n",
            "  5571.442383   348.289032  6786.318359  5688.615723   382.577332\n",
            "  9246.486328   517.730469  8746.569336  3024.589355   306.75946\n",
            "  6073.234375   592.649475   543.933777  8292.355469   293.900421\n",
            "   381.712769  3861.659912   206.489731  3824.62793   2408.293213\n",
            "  3534.563477  5481.957031   207.231888  3566.071533  5628.76416\n",
            "  3206.829834  3558.986572   921.174316  3494.711914  8232.200195\n",
            "   214.645828  6536.92041    601.380737  1644.547729   599.638611\n",
            "  3674.391846   306.844849  8610.65332   2507.928955   263.024017\n",
            "  5674.475098  7142.94043    218.703293  3524.441162  9086.756836\n",
            "  3148.845947  4722.169434   205.564499  6958.033203  5685.60791\n",
            "   358.107391   898.521301   273.197571  1212.820923  2444.355713]\n"
          ],
          "name": "stdout"
        }
      ]
    },
    {
      "cell_type": "code",
      "metadata": {
        "id": "RGlx4f0CjMuE",
        "outputId": "7d9b5ceb-93a1-49bc-dc9a-3d4f00d98c4e",
        "colab": {
          "base_uri": "https://localhost:8080/",
          "height": 119
        }
      },
      "source": [
        "# Print the model predictions for the next 'n = 30' days\n",
        "svm_prediction = svr_rbf.predict(prediction_days_array)\n",
        "print(svm_prediction)"
      ],
      "execution_count": 27,
      "outputs": [
        {
          "output_type": "stream",
          "text": [
            "[1499.04670305 1499.04670305 1499.04670305 1499.04670305 1499.04670305\n",
            " 1499.04670305 1499.04670305 1499.04670305 1499.04670305 1499.04670305\n",
            " 1499.04670305 1499.04670305 1499.04670305 1499.04670305 1499.04670305\n",
            " 1499.04670305 1499.04670305 1499.04670305 1499.04670305 1499.04670305\n",
            " 1499.04670305 1499.04670305 1499.04670305 1499.04670305 1499.04670305\n",
            " 1499.04670305 1499.04670305 1499.04670305 1499.04670305 1499.04670305]\n"
          ],
          "name": "stdout"
        }
      ]
    },
    {
      "cell_type": "code",
      "metadata": {
        "id": "BTBn7Y7BjV-M",
        "outputId": "e6781a40-8505-493d-e62c-6824cc6205f3",
        "colab": {
          "base_uri": "https://localhost:8080/",
          "height": 561
        }
      },
      "source": [
        "print()\n",
        "\n",
        "#Print the actual price for bitcoin for the last 30 days\n",
        "print(df.tail(prediction_days))"
      ],
      "execution_count": 28,
      "outputs": [
        {
          "output_type": "stream",
          "text": [
            "\n",
            "            Close       Volume  Prediction\n",
            "1847  7508.353027  14227161316         NaN\n",
            "1848  7824.074707  17644697905         NaN\n",
            "1849  7798.226563  16001250003         NaN\n",
            "1850  7538.513184  17759216751         NaN\n",
            "1851  7554.502930  13169334495         NaN\n",
            "1852  7545.005371  12520552917         NaN\n",
            "1853  7595.379883  13741475461         NaN\n",
            "1854  7435.968262  13793224979         NaN\n",
            "1855  7266.731445  14512327589         NaN\n",
            "1856  7284.273438  12865415827         NaN\n",
            "1857  7138.117676  14012291755         NaN\n",
            "1858  7151.862793  12352682776         NaN\n",
            "1859  7370.443848  13898334789         NaN\n",
            "1860  7392.276855  14229761007         NaN\n",
            "1861  7259.024902  15099414521         NaN\n",
            "1862  6750.249512  19710761538         NaN\n",
            "1863  6748.621094  14651566651         NaN\n",
            "1864  7816.342773  25906522538         NaN\n",
            "1865  8343.458008  40157247739         NaN\n",
            "1866  8617.566406  29405554028         NaN\n",
            "1867  8340.048828  27885244605         NaN\n",
            "1868  8483.099609  25578615575         NaN\n",
            "1869  8253.669922  24841122081         NaN\n",
            "1870  8245.560547  23826849281         NaN\n",
            "1871  8292.355469  21780231050         NaN\n",
            "1872  8349.874023  19021882025         NaN\n",
            "1873  8270.445313  18924326413         NaN\n",
            "1874  8458.521484  23517560012         NaN\n",
            "1875  8436.573242  23658103729         NaN\n",
            "1876  8456.394531  20898606220         NaN\n"
          ],
          "name": "stdout"
        }
      ]
    }
  ]
}